{
 "cells": [
  {
   "cell_type": "code",
   "execution_count": 1,
   "id": "b4e645f2",
   "metadata": {},
   "outputs": [],
   "source": [
    "# conditional statements"
   ]
  },
  {
   "cell_type": "code",
   "execution_count": 8,
   "id": "325c6111",
   "metadata": {},
   "outputs": [],
   "source": [
    "cars =['audi', 'benz', 'bmw', 'toyata', 'hyundai']"
   ]
  },
  {
   "cell_type": "code",
   "execution_count": 9,
   "id": "2eafbdd4",
   "metadata": {},
   "outputs": [
    {
     "name": "stdout",
     "output_type": "stream",
     "text": [
      "Audi\n",
      "Benz\n",
      "BMW\n",
      "Toyata\n",
      "Hyundai\n"
     ]
    }
   ],
   "source": [
    "for x in cars:\n",
    "    if x == 'bmw':\n",
    "        print(x.upper())\n",
    "    else:\n",
    "            print(x.title())"
   ]
  },
  {
   "cell_type": "code",
   "execution_count": 10,
   "id": "cd35da13",
   "metadata": {},
   "outputs": [],
   "source": [
    "# case study: Building a simple voting application"
   ]
  },
  {
   "cell_type": "code",
   "execution_count": 17,
   "id": "77dd2a6d",
   "metadata": {},
   "outputs": [],
   "source": [
    "ag =12"
   ]
  },
  {
   "cell_type": "code",
   "execution_count": 16,
   "id": "74e7b33d",
   "metadata": {},
   "outputs": [
    {
     "ename": "SyntaxError",
     "evalue": "invalid syntax (Temp/ipykernel_17632/2910519637.py, line 3)",
     "output_type": "error",
     "traceback": [
      "\u001b[1;36m  File \u001b[1;32m\"C:\\Users\\DELL\\AppData\\Local\\Temp/ipykernel_17632/2910519637.py\"\u001b[1;36m, line \u001b[1;32m3\u001b[0m\n\u001b[1;33m    else:\u001b[0m\n\u001b[1;37m    ^\u001b[0m\n\u001b[1;31mSyntaxError\u001b[0m\u001b[1;31m:\u001b[0m invalid syntax\n"
     ]
    }
   ],
   "source": [
    "if age >= 18:\n",
    "    print(\"You are eligible to vote\")\n",
    "    else:\n",
    "        print(\"you are not eligible to vote\")"
   ]
  },
  {
   "cell_type": "code",
   "execution_count": null,
   "id": "505994a7",
   "metadata": {},
   "outputs": [],
   "source": []
  }
 ],
 "metadata": {
  "kernelspec": {
   "display_name": "Python 3 (ipykernel)",
   "language": "python",
   "name": "python3"
  },
  "language_info": {
   "codemirror_mode": {
    "name": "ipython",
    "version": 3
   },
   "file_extension": ".py",
   "mimetype": "text/x-python",
   "name": "python",
   "nbconvert_exporter": "python",
   "pygments_lexer": "ipython3",
   "version": "3.9.7"
  }
 },
 "nbformat": 4,
 "nbformat_minor": 5
}
